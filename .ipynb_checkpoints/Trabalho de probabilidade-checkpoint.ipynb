{
 "cells": [
  {
   "cell_type": "markdown",
   "metadata": {},
   "source": [
    "## Trabalho de probabilidade - Unidade 1\n",
    "\n",
    "- **Aluno**: Davi Rodrigues de Medeiros\n",
    "- **Matrícula**: 20160143888\n",
    "   "
   ]
  },
  {
   "cell_type": "markdown",
   "metadata": {},
   "source": [
    "## Base de dados\n",
    "\n",
    "Nesse trabalho utilizou-se a base de dados referente aos concursos da Mega-Sena. \n",
    "\n",
    "A **Mega-Sena** tem sido a maior modalidade lotérica do Brasil, sendo uma entre as dez modalidades atuais das loterias da Caixa (Caixa Econômica Federal), com sorteios ordinários duas vezes por semana, além da Mega-Sena da Virada.\n",
    "\n",
    "Para ganhar o **prêmio máximo da Mega-Sena** — **a sena** — , é necessário acertar a sena, o que significa obter coincidência entre **seis dos números** apostados e os seis números sorteados, de um total de sessenta dezenas (**de 01 a 60**), independentemente da ordem da aposta ou da ordem do sorteio. \n",
    "\n",
    "O concurso prevê também a chance de se ganhar parte do prêmio máximo, pelo acerto da **quina** (apenas cinco dos números sorteados), ou da **quadra** (apenas quatro dos números sorteados), com prêmios significativamente menores que aquele que seria pago na ocorrência do acerto da sena, o da quina maior que o da quadra. "
   ]
  },
  {
   "cell_type": "code",
   "execution_count": 187,
   "metadata": {},
   "outputs": [
    {
     "name": "stdout",
     "output_type": "stream",
     "text": [
      "['MegaSena']\n"
     ]
    }
   ],
   "source": [
    "#### Carregando a base de dados ####\n",
    "\n",
    "# Importar as bibliotecas necessárias\n",
    "import pandas as pd\n",
    "import matplotlib.pyplot as plt\n",
    "# Atribuir o nome da planilha para a variável \"arquivo\"\n",
    "arquivo = 'basedados.xlsx'\n",
    "# Carregar a base de dados para um objeto pandas.io.excel.ExcelFile\n",
    "excel = pd.ExcelFile(arquivo)\n",
    "# Imprimir o nome das planilhas\n",
    "print(excel.sheet_names)\n",
    "# Carregar a planilha excel para um objeto dataframe\n",
    "data = excel.parse(0)"
   ]
  },
  {
   "cell_type": "markdown",
   "metadata": {},
   "source": [
    "## Análise de dados\n",
    "\n",
    "**1.Dezenas**\n",
    "\n",
    "Inicialmente foi buscado a frequência em que as dezenas são sorteadas. A seguir é mostrado o resultado."
   ]
  },
  {
   "cell_type": "code",
   "execution_count": 73,
   "metadata": {
    "scrolled": true
   },
   "outputs": [
    {
     "data": {
      "text/plain": [
       "5     233\n",
       "53    230\n",
       "10    227\n",
       "23    224\n",
       "4     224\n",
       "54    221\n",
       "51    220\n",
       "24    220\n",
       "33    219\n",
       "17    218\n",
       "52    217\n",
       "28    217\n",
       "42    216\n",
       "32    215\n",
       "30    213\n",
       "43    212\n",
       "16    211\n",
       "41    210\n",
       "34    210\n",
       "50    209\n",
       "2     209\n",
       "13    209\n",
       "36    208\n",
       "29    207\n",
       "37    207\n",
       "56    207\n",
       "27    206\n",
       "44    205\n",
       "6     204\n",
       "1     202\n",
       "8     202\n",
       "59    201\n",
       "45    201\n",
       "18    201\n",
       "47    200\n",
       "49    200\n",
       "35    200\n",
       "12    199\n",
       "38    197\n",
       "20    195\n",
       "58    195\n",
       "11    195\n",
       "31    194\n",
       "46    193\n",
       "40    191\n",
       "3     191\n",
       "7     191\n",
       "60    190\n",
       "48    190\n",
       "14    189\n",
       "39    188\n",
       "57    188\n",
       "19    186\n",
       "25    184\n",
       "9     183\n",
       "15    183\n",
       "21    178\n",
       "22    177\n",
       "55    174\n",
       "26    164\n",
       "dtype: int64"
      ]
     },
     "execution_count": 73,
     "metadata": {},
     "output_type": "execute_result"
    }
   ],
   "source": [
    "#Frequência em que as dezenas foram sorteadas de acordo com os concursos realizados\n",
    "colunas = [\"Dezena1\", \"Dezena2\", \"Dezena3\", \"Dezena4\", \"Dezena5\", \"Dezena6\"]\n",
    "data[colunas].unstack().value_counts()"
   ]
  },
  {
   "cell_type": "markdown",
   "metadata": {},
   "source": [
    "Após isso, foi analisado as 6 dezenas mais sorteadas em dois casos: Em todos os concursos e em concursos não acumulados.\n",
    "\n",
    "Para todos os concursos, selecionou-se as 12 dezenas mais sorteadas e gerou-se o gráfico a seguir:"
   ]
  },
  {
   "cell_type": "code",
   "execution_count": 161,
   "metadata": {
    "scrolled": true
   },
   "outputs": [
    {
     "data": {
      "text/plain": [
       "Text(0,0.5,'Nº Concursos')"
      ]
     },
     "execution_count": 161,
     "metadata": {},
     "output_type": "execute_result"
    },
    {
     "data": {
      "image/png": "[encoded data removed]",
      "text/plain": [
       "<matplotlib.figure.Figure at 0x7f7b8b147470>"
      ]
     },
     "metadata": {},
     "output_type": "display_data"
    }
   ],
   "source": [
    "#As 12 dezenas que mais saíram em todos os concursos\n",
    "ax = data[colunas].unstack().value_counts()[:12].plot(kind='bar')\n",
    "ax.set_title('Frequência de dezenas em todos os concursos')\n",
    "ax.set_ylim(210,235)\n",
    "ax.set_xlabel('Dezenas')\n",
    "ax.set_ylabel('Nº Concursos')"
   ]
  },
  {
   "cell_type": "markdown",
   "metadata": {},
   "source": [
    "No gráfico acima, é notada que as 6 dezenas mais sorteadas foram 5, 53, 10, 23, 4 e 54. Além disso, é importante notar que as dezenas 51 e 24 ficaram próximas do 54, o que aumenta a probabilidade de serem sorteadas.\n",
    "\n",
    "Já para os concursos em que houveram pelo menos um ganhador, foi feito um filtro pelos concursos não acumulados e gerou-se o gráfico a seguir:"
   ]
  },
  {
   "cell_type": "code",
   "execution_count": 156,
   "metadata": {
    "scrolled": true
   },
   "outputs": [
    {
     "data": {
      "text/plain": [
       "Text(0,0.5,'Nº Concursos')"
      ]
     },
     "execution_count": 156,
     "metadata": {},
     "output_type": "execute_result"
    },
    {
     "data": {
      "image/png": "[encoded data removed]",
      "text/plain": [
       "<matplotlib.figure.Figure at 0x7f7b8b44d128>"
      ]
     },
     "metadata": {},
     "output_type": "display_data"
    }
   ],
   "source": [
    "#As 12 dezenas que mais saíram nos concursos em que houveram ganhadores\n",
    "ax = data[data.Acumulado == 'NÃO'][colunas].unstack().value_counts()[:12].plot(kind='bar')\n",
    "ax.set_title('Frequência de dezenas em concursos não acumulados')\n",
    "ax.set_ylim(50,80)\n",
    "ax.set_xlabel('Dezenas')\n",
    "ax.set_ylabel('Nº Concursos')"
   ]
  },
  {
   "cell_type": "markdown",
   "metadata": {},
   "source": [
    "No gráfico acima, é notada que as 6 dezenas mais sorteadas foram 5, 10, 33, 1, 3 e 17. Além disso, notamos que a dezena 8 ficou próxima da 17, tendo uma maior chance de ser sorteada.  \n",
    "\n",
    "<br/>\n",
    "**2.Ganhadores da Mega Sena**\n",
    "\n",
    "Também foi feita uma análise com relação aos ganhadores da Mega Sena. A seguir é mostrado o gráfico como resultado."
   ]
  },
  {
   "cell_type": "code",
   "execution_count": 162,
   "metadata": {},
   "outputs": [
    {
     "data": {
      "text/plain": [
       "Text(0,0.5,'Nº Concursos')"
      ]
     },
     "execution_count": 162,
     "metadata": {},
     "output_type": "execute_result"
    },
    {
     "data": {
      "image/png": "[encoded data removed]",
      "text/plain": [
       "<matplotlib.figure.Figure at 0x7f7b8b14c048>"
      ]
     },
     "metadata": {},
     "output_type": "display_data"
    }
   ],
   "source": [
    "#Número de ganhadores da Mega Sena por Concurso\n",
    "freq_counts = data['Ganhadores_Sena'].value_counts()\n",
    "ax = freq_counts.plot(title=\"Número de ganhadores por Concursos\")\n",
    "ax.set_xlabel('Nº Ganhadores')\n",
    "ax.set_ylabel('Nº Concursos')"
   ]
  },
  {
   "cell_type": "markdown",
   "metadata": {},
   "source": [
    "Nesse gráfico é notado que há um decrescimento exponencial com relação ao número de ganhadores.\n",
    "\n",
    "No maior parte dos concursos não houveram ganhadores, já em apenas um concurso houveram 17 ganhadores.\n",
    "\n",
    "Além disso, foi gerado o gráfico seguir com uma outra forma de visualizar os ganhadores da Mega Sena."
   ]
  },
  {
   "cell_type": "code",
   "execution_count": 248,
   "metadata": {
    "scrolled": true
   },
   "outputs": [
    {
     "data": {
      "text/plain": [
       "Text(0.5,0,'Concursos')"
      ]
     },
     "execution_count": 248,
     "metadata": {},
     "output_type": "execute_result"
    },
    {
     "data": {
      "image/png": "[encoded data removed]",
      "text/plain": [
       "<matplotlib.figure.Figure at 0x7f7b7e6f5048>"
      ]
     },
     "metadata": {},
     "output_type": "display_data"
    }
   ],
   "source": [
    "#Ganhadores da Mega Sena\n",
    "ax = data['Ganhadores_Sena'].plot(kind='line', title=\"Número de ganhadores por Concursos\")\n",
    "ax.set_ylabel('Nº Ganhadores')\n",
    "ax.set_xlabel('Concursos')"
   ]
  },
  {
   "cell_type": "markdown",
   "metadata": {},
   "source": [
    "Nesse gráfico é notado que a maioria dos ganhadores da mega sena estão concentrados entre 0 e 2.\n",
    "\n",
    "<br/>\n",
    "\n",
    "Por fim, foi analisado as maiores premiações da mega sena. Para isso, foi filtrado os 10 ganhadores com maior premiação.\n",
    "\n",
    "O resultado é mostrado a seguir."
   ]
  },
  {
   "cell_type": "code",
   "execution_count": 246,
   "metadata": {},
   "outputs": [
    {
     "data": {
      "text/html": [
       "<div>\n",
       "<style scoped>\n",
       "    .dataframe tbody tr th:only-of-type {\n",
       "        vertical-align: middle;\n",
       "    }\n",
       "\n",
       "    .dataframe tbody tr th {\n",
       "        vertical-align: top;\n",
       "    }\n",
       "\n",
       "    .dataframe thead th {\n",
       "        text-align: right;\n",
       "    }\n",
       "</style>\n",
       "<table border=\"1\" class=\"dataframe\">\n",
       "  <thead>\n",
       "    <tr style=\"text-align: right;\">\n",
       "      <th></th>\n",
       "      <th>Rateio_Sena</th>\n",
       "      <th>Ganhadores_Sena</th>\n",
       "    </tr>\n",
       "  </thead>\n",
       "  <tbody>\n",
       "    <tr>\n",
       "      <th>1763</th>\n",
       "      <td>2.053298e+08</td>\n",
       "      <td>1</td>\n",
       "    </tr>\n",
       "    <tr>\n",
       "      <th>1219</th>\n",
       "      <td>1.191421e+08</td>\n",
       "      <td>1</td>\n",
       "    </tr>\n",
       "    <tr>\n",
       "      <th>1574</th>\n",
       "      <td>1.115039e+08</td>\n",
       "      <td>1</td>\n",
       "    </tr>\n",
       "    <tr>\n",
       "      <th>1952</th>\n",
       "      <td>1.079561e+08</td>\n",
       "      <td>1</td>\n",
       "    </tr>\n",
       "    <tr>\n",
       "      <th>2014</th>\n",
       "      <td>1.045458e+08</td>\n",
       "      <td>1</td>\n",
       "    </tr>\n",
       "    <tr>\n",
       "      <th>1923</th>\n",
       "      <td>1.014845e+08</td>\n",
       "      <td>1</td>\n",
       "    </tr>\n",
       "    <tr>\n",
       "      <th>1771</th>\n",
       "      <td>9.868897e+07</td>\n",
       "      <td>2</td>\n",
       "    </tr>\n",
       "    <tr>\n",
       "      <th>1809</th>\n",
       "      <td>9.230323e+07</td>\n",
       "      <td>1</td>\n",
       "    </tr>\n",
       "    <tr>\n",
       "      <th>1454</th>\n",
       "      <td>8.159470e+07</td>\n",
       "      <td>3</td>\n",
       "    </tr>\n",
       "    <tr>\n",
       "      <th>1544</th>\n",
       "      <td>8.049911e+07</td>\n",
       "      <td>1</td>\n",
       "    </tr>\n",
       "  </tbody>\n",
       "</table>\n",
       "</div>"
      ],
      "text/plain": [
       "       Rateio_Sena  Ganhadores_Sena\n",
       "1763  2.053298e+08                1\n",
       "1219  1.191421e+08                1\n",
       "1574  1.115039e+08                1\n",
       "1952  1.079561e+08                1\n",
       "2014  1.045458e+08                1\n",
       "1923  1.014845e+08                1\n",
       "1771  9.868897e+07                2\n",
       "1809  9.230323e+07                1\n",
       "1454  8.159470e+07                3\n",
       "1544  8.049911e+07                1"
      ]
     },
     "execution_count": 246,
     "metadata": {},
     "output_type": "execute_result"
    }
   ],
   "source": [
    "#Os 10 ganhadores mais ricos \n",
    "data.sort_values('Rateio_Sena',ascending=False)[['Rateio_Sena', 'Ganhadores_Sena']][:10]"
   ]
  },
  {
   "cell_type": "markdown",
   "metadata": {},
   "source": [
    "## Conclusão\n",
    "\n",
    "A base de dados possui bastante informações que podem ser feitas manipulações e análises baseadas nos vários tipos de gráficos. Por o trabalho possuir um número limitado de figuras a ser utilizadas, não foi possível explorar bastante esses dados. No entanto buscou-se fazer a análise focada nas dezenas e nos ganhadores da Mega Sena por se tratar de uma informação mais clara."
   ]
  },
  {
   "cell_type": "code",
   "execution_count": null,
   "metadata": {},
   "outputs": [],
   "source": []
  }
 ],
 "metadata": {
  "kernelspec": {
   "display_name": "Python 3",
   "language": "python",
   "name": "python3"
  },
  "language_info": {
   "codemirror_mode": {
    "name": "ipython",
    "version": 3
   },
   "file_extension": ".py",
   "mimetype": "text/x-python",
   "name": "python",
   "nbconvert_exporter": "python",
   "pygments_lexer": "ipython3",
   "version": "3.6.4"
  }
 },
 "nbformat": 4,
 "nbformat_minor": 2
}
